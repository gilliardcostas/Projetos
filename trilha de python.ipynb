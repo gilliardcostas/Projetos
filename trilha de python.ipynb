{
  "nbformat": 4,
  "nbformat_minor": 0,
  "metadata": {
    "colab": {
      "name": "Untitled0.ipynb",
      "provenance": [],
      "authorship_tag": "ABX9TyNQ3uFUFflBg9EgKDUposK2",
      "include_colab_link": true
    },
    "kernelspec": {
      "name": "python3",
      "display_name": "Python 3"
    }
  },
  "cells": [
    {
      "cell_type": "markdown",
      "metadata": {
        "id": "view-in-github",
        "colab_type": "text"
      },
      "source": [
        "<a href=\"https://colab.research.google.com/github/gilliardcostas/Projetos/blob/master/trilha%20de%20python.ipynb\" target=\"_parent\"><img src=\"https://colab.research.google.com/assets/colab-badge.svg\" alt=\"Open In Colab\"/></a>"
      ]
    },
    {
      "cell_type": "markdown",
      "metadata": {
        "id": "mFrElc8IR-Ty"
      },
      "source": [
        "Exercício 1 - \"E os 10% do garçom?\"\r\n",
        "\r\n",
        "* Defina uma variável para o valor de uma refeição que custou R$ 42,54;\r\n",
        "* Defina uma variável para o valor da taxa de serviço que é de 10%;\r\n",
        "* Defina uma variável que calcula o valor total da conta e exiba-o no console \r\n",
        "\r\n",
        "(sem formatação, por enquanto, apenas o valor do resultado).\r\n"
      ]
    },
    {
      "cell_type": "code",
      "metadata": {
        "colab": {
          "base_uri": "https://localhost:8080/"
        },
        "id": "oRRMVuaX9j_M",
        "outputId": "e0f83ce4-b1db-4e76-ec13-ce2f80c44404"
      },
      "source": [
        "valor = float (input(\"Digite o valor da refeição \")) \r\n",
        "servico = 0.10 * valor \r\n",
        "total = valor + servico\r\n",
        "print (f\"O valor do seu prato mais o serviço foi {total:.2f} \")\r\n"
      ],
      "execution_count": 2,
      "outputs": [
        {
          "output_type": "stream",
          "text": [
            "Digite o valor da refeição 45.54\n",
            "O valor do seu prato mais o serviço foi 50.09 \n"
          ],
          "name": "stdout"
        }
      ]
    },
    {
      "cell_type": "markdown",
      "metadata": {
        "id": "KPmVPTofRwQI"
      },
      "source": [
        "Exercício 2 - Input de Informações\r\n",
        "\r\n",
        "Objetivo: Receber dados do usuário, trabalhar com os valores e exibir para o usuário.\r\n",
        "\r\n",
        "Dificuldade: Principiante\r\n",
        "\r\n",
        "1 - Crie um programa que receba do usuário seu nome, idade e gênero;\r\n",
        "\r\n",
        "2 - Exiba na tela seguinte mensagem: \"Olá, {nome}, você possui {idade} anos de idade e é do gênero {genero}.\";\r\n",
        "\r\n",
        "3 - Exiba também: \"Já pensou no que você fará no seu aniversário de {idade + 1} anos?\".\r\n",
        "\r\n",
        "Adicionando uma pimentinha extra: \"Se o usuário digitar idade 1, exiba apenas \"ano\" em vez de \"anos\". \"\"\"\r\n"
      ]
    },
    {
      "cell_type": "code",
      "metadata": {
        "colab": {
          "base_uri": "https://localhost:8080/"
        },
        "id": "JLEs467QR732",
        "outputId": "438af022-29e1-4730-a7e9-ac7240a83268"
      },
      "source": [
        "nome = input (\"Qual o seu nome? \")\r\n",
        "idade = int (input(\"Qual a sua idade? \"))\r\n",
        "genero = input (\"Qual o seu genêro? \")\r\n",
        "\r\n",
        "print (f\"Olá, {nome} você possui {idade} anos de idade e é do gênero {genero}.\")\r\n"
      ],
      "execution_count": 14,
      "outputs": [
        {
          "output_type": "stream",
          "text": [
            "Qual o seu nome? Gulião\n",
            "Qual a sua idade? 33\n",
            "Qual o seu genêro? M\n",
            "Olá, Gulião você possui 33 anos de idade e é do gênero M.\n"
          ],
          "name": "stdout"
        }
      ]
    }
  ]
}