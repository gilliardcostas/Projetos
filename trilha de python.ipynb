{
  "nbformat": 4,
  "nbformat_minor": 0,
  "metadata": {
    "colab": {
      "name": "Untitled0.ipynb",
      "provenance": [],
      "authorship_tag": "ABX9TyP9kVUCR4AkKhx8qsH+sFsa",
      "include_colab_link": true
    },
    "kernelspec": {
      "name": "python3",
      "display_name": "Python 3"
    }
  },
  "cells": [
    {
      "cell_type": "markdown",
      "metadata": {
        "id": "view-in-github",
        "colab_type": "text"
      },
      "source": [
        "<a href=\"https://colab.research.google.com/github/gilliardcostas/Projetos/blob/master/trilha%20de%20python.ipynb\" target=\"_parent\"><img src=\"https://colab.research.google.com/assets/colab-badge.svg\" alt=\"Open In Colab\"/></a>"
      ]
    },
    {
      "cell_type": "markdown",
      "metadata": {
        "id": "mFrElc8IR-Ty"
      },
      "source": [
        "Exercício 1 - \"E os 10% do garçom?\"\r\n",
        "\r\n",
        "* Defina uma variável para o valor de uma refeição que custou R$ 42,54;\r\n",
        "* Defina uma variável para o valor da taxa de serviço que é de 10%;\r\n",
        "* Defina uma variável que calcula o valor total da conta e exiba-o no console \r\n",
        "\r\n",
        "(sem formatação, por enquanto, apenas o valor do resultado).\r\n"
      ]
    },
    {
      "cell_type": "code",
      "metadata": {
        "colab": {
          "base_uri": "https://localhost:8080/"
        },
        "id": "oRRMVuaX9j_M",
        "outputId": "e0f83ce4-b1db-4e76-ec13-ce2f80c44404"
      },
      "source": [
        "valor = float (input(\"Digite o valor da refeição \")) \r\n",
        "servico = 0.10 * valor \r\n",
        "total = valor + servico\r\n",
        "print (f\"O valor do seu prato mais o serviço foi {total:.2f} \")\r\n"
      ],
      "execution_count": 2,
      "outputs": [
        {
          "output_type": "stream",
          "text": [
            "Digite o valor da refeição 45.54\n",
            "O valor do seu prato mais o serviço foi 50.09 \n"
          ],
          "name": "stdout"
        }
      ]
    },
    {
      "cell_type": "markdown",
      "metadata": {
        "id": "KPmVPTofRwQI"
      },
      "source": [
        "Exercício 2 - Input de Informações\r\n",
        "\r\n",
        "Objetivo: Receber dados do usuário, trabalhar com os valores e exibir para o usuário.\r\n",
        "\r\n",
        "Dificuldade: Principiante\r\n",
        "\r\n",
        "1 - Crie um programa que receba do usuário seu nome, idade e gênero;\r\n",
        "\r\n",
        "2 - Exiba na tela seguinte mensagem: \"Olá, {nome}, você possui {idade} anos de idade e é do gênero {genero}.\";\r\n",
        "\r\n",
        "3 - Exiba também: \"Já pensou no que você fará no seu aniversário de {idade + 1} anos?\".\r\n",
        "\r\n",
        "Adicionando uma pimentinha extra: \"Se o usuário digitar idade 1, exiba apenas \"ano\" em vez de \"anos\". \"\"\"\r\n"
      ]
    },
    {
      "cell_type": "code",
      "metadata": {
        "id": "JLEs467QR732",
        "outputId": "79214918-42ba-4939-91c2-3cd2a9c58172",
        "colab": {
          "base_uri": "https://localhost:8080/",
          "height": 248
        }
      },
      "source": [
        "NOME = input (\"Qual o seu nome? \")\r\n",
        "IDADE = int (input(\"Qual a sua idade? \"))\r\n",
        "GENERO = input (\"Qual o seu genêro? \")\r\n",
        "\r\n",
        "print (f\"Olá, {nome}\" + f\"você possui {idade}\" + f\"anos de idade e é do gênero {genero}.\")\r\n"
      ],
      "execution_count": 9,
      "outputs": [
        {
          "output_type": "stream",
          "text": [
            "Qual o seu nome? tromb\n",
            "Qual a sua idade? 48\n",
            "Qual o seu genêro? M\n"
          ],
          "name": "stdout"
        },
        {
          "output_type": "error",
          "ename": "NameError",
          "evalue": "ignored",
          "traceback": [
            "\u001b[0;31m---------------------------------------------------------------------------\u001b[0m",
            "\u001b[0;31mNameError\u001b[0m                                 Traceback (most recent call last)",
            "\u001b[0;32m<ipython-input-9-02452af2edda>\u001b[0m in \u001b[0;36m<module>\u001b[0;34m()\u001b[0m\n\u001b[1;32m      3\u001b[0m \u001b[0mGENERO\u001b[0m \u001b[0;34m=\u001b[0m \u001b[0minput\u001b[0m \u001b[0;34m(\u001b[0m\u001b[0;34m\"Qual o seu genêro? \"\u001b[0m\u001b[0;34m)\u001b[0m\u001b[0;34m\u001b[0m\u001b[0;34m\u001b[0m\u001b[0m\n\u001b[1;32m      4\u001b[0m \u001b[0;34m\u001b[0m\u001b[0m\n\u001b[0;32m----> 5\u001b[0;31m \u001b[0mprint\u001b[0m \u001b[0;34m(\u001b[0m\u001b[0;34mf\"Olá, {nome}\"\u001b[0m \u001b[0;34m+\u001b[0m \u001b[0;34mf\"você possui {idade}\"\u001b[0m \u001b[0;34m+\u001b[0m \u001b[0;34mf\"anos de idade e é do gênero {genero}.\"\u001b[0m\u001b[0;34m)\u001b[0m\u001b[0;34m\u001b[0m\u001b[0;34m\u001b[0m\u001b[0m\n\u001b[0m",
            "\u001b[0;31mNameError\u001b[0m: name 'nome' is not defined"
          ]
        }
      ]
    }
  ]
}