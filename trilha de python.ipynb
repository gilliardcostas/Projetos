{
  "nbformat": 4,
  "nbformat_minor": 0,
  "metadata": {
    "colab": {
      "name": "Untitled0.ipynb",
      "provenance": [],
      "authorship_tag": "ABX9TyPp+I9F1PP1Usdl30EsWgsT",
      "include_colab_link": true
    },
    "kernelspec": {
      "name": "python3",
      "display_name": "Python 3"
    }
  },
  "cells": [
    {
      "cell_type": "markdown",
      "metadata": {
        "id": "view-in-github",
        "colab_type": "text"
      },
      "source": [
        "<a href=\"https://colab.research.google.com/github/gilliardcostas/Projetos/blob/master/trilha%20de%20python.ipynb\" target=\"_parent\"><img src=\"https://colab.research.google.com/assets/colab-badge.svg\" alt=\"Open In Colab\"/></a>"
      ]
    },
    {
      "cell_type": "code",
      "metadata": {
        "colab": {
          "base_uri": "https://localhost:8080/"
        },
        "id": "oRRMVuaX9j_M",
        "outputId": "96fbd1e2-c6df-49ed-8dab-ea65f849c921"
      },
      "source": [
        "valor = float (input(\"Digite o valor da refeição \")) \r\n",
        "servico = 0.10 * valor \r\n",
        "total = valor + servico\r\n",
        "print (f\"O valor do seu prato mais o serviço foi {total:.2f} \")\r\n"
      ],
      "execution_count": 27,
      "outputs": [
        {
          "output_type": "stream",
          "text": [
            "Digite o valor da refeição 42.54\n",
            "O valor do seu prato mais o serviço foi 46.79 \n"
          ],
          "name": "stdout"
        }
      ]
    }
  ]
}